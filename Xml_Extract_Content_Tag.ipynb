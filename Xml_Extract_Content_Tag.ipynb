{
  "nbformat": 4,
  "nbformat_minor": 0,
  "metadata": {
    "colab": {
      "name": "Xml-Extract-Content-Tag.ipynb",
      "provenance": [],
      "collapsed_sections": [],
      "authorship_tag": "ABX9TyMX3n5QhzPcu8QuNrEYeBeO",
      "include_colab_link": true
    },
    "kernelspec": {
      "name": "python3",
      "display_name": "Python 3"
    }
  },
  "cells": [
    {
      "cell_type": "markdown",
      "metadata": {
        "id": "view-in-github",
        "colab_type": "text"
      },
      "source": [
        "<a href=\"https://colab.research.google.com/github/crismunoz/Python-Utilities/blob/master/Xml_Extract_Content_Tag.ipynb\" target=\"_parent\"><img src=\"https://colab.research.google.com/assets/colab-badge.svg\" alt=\"Open In Colab\"/></a>"
      ]
    },
    {
      "cell_type": "markdown",
      "metadata": {
        "id": "go_SHaUKMnwU",
        "colab_type": "text"
      },
      "source": [
        "# Extract complete content of Xml Tag"
      ]
    },
    {
      "cell_type": "code",
      "metadata": {
        "id": "4LzTwHVRI_Dd",
        "colab_type": "code",
        "colab": {
          "base_uri": "https://localhost:8080/",
          "height": 34
        },
        "outputId": "07bf6530-d18f-4a0b-a5a6-7138f67801b8"
      },
      "source": [
        "%%writefile test.xml\n",
        "<item>\n",
        "A former officer was <style atrb=\"bold\">charged</style> with “wanton endangerment” for endangering Ms. \n",
        "Taylor’s neighbors with gunshots when <style atrb=\"italic\">she was</style> killed by police officers \n",
        "in her Louisville apartment.\n",
        "</item>"
      ],
      "execution_count": 30,
      "outputs": [
        {
          "output_type": "stream",
          "text": [
            "Writing test.xml\n"
          ],
          "name": "stdout"
        }
      ]
    },
    {
      "cell_type": "code",
      "metadata": {
        "id": "xGJp797WJqLj",
        "colab_type": "code",
        "colab": {}
      },
      "source": [
        "import xml.etree.ElementTree as ET"
      ],
      "execution_count": 31,
      "outputs": []
    },
    {
      "cell_type": "code",
      "metadata": {
        "id": "PqmsN8AIJxB4",
        "colab_type": "code",
        "colab": {}
      },
      "source": [
        "tree = ET.parse('test.xml')\n",
        "root = tree.getroot()"
      ],
      "execution_count": 32,
      "outputs": []
    },
    {
      "cell_type": "code",
      "metadata": {
        "id": "2Ep9a111JyOH",
        "colab_type": "code",
        "colab": {
          "base_uri": "https://localhost:8080/",
          "height": 102
        },
        "outputId": "f708f917-1677-4f70-ae34-b6f13c982269"
      },
      "source": [
        "print(''.join(root.itertext()))"
      ],
      "execution_count": 33,
      "outputs": [
        {
          "output_type": "stream",
          "text": [
            "\n",
            "A former officer was charged with “wanton endangerment” for endangering Ms. \n",
            "Taylor’s neighbors with gunshots when she was killed by police officers \n",
            "in her Louisville apartment.\n",
            "\n"
          ],
          "name": "stdout"
        }
      ]
    }
  ]
}